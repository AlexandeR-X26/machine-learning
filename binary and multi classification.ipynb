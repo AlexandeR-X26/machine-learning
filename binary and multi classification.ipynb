{
  "cells": [
    {
      "cell_type": "markdown",
      "metadata": {
        "id": "view-in-github",
        "colab_type": "text"
      },
      "source": [
        "<a href=\"https://colab.research.google.com/github/AlexandeR-X26/machine-learning/blob/main/binary%20and%20multi%20classification.ipynb\" target=\"_parent\"><img src=\"https://colab.research.google.com/assets/colab-badge.svg\" alt=\"Open In Colab\"/></a>"
      ]
    },
    {
      "cell_type": "markdown",
      "source": [
        "Package calling"
      ],
      "metadata": {
        "id": "9gmz-lYo2KVO"
      },
      "id": "9gmz-lYo2KVO"
    },
    {
      "cell_type": "markdown",
      "source": [
        "# Packages\n"
      ],
      "metadata": {
        "id": "ud7ox_hu2Nns"
      },
      "id": "ud7ox_hu2Nns"
    },
    {
      "cell_type": "code",
      "execution_count": null,
      "id": "43da0749-15d8-484a-8ff4-1a2c5dad4d0d",
      "metadata": {
        "id": "43da0749-15d8-484a-8ff4-1a2c5dad4d0d"
      },
      "outputs": [],
      "source": [
        "import os\n",
        "import skimage\n",
        "import numpy as np \n",
        "import matplotlib.pyplot as plt\n",
        "import pandas as pd \n",
        "import glob\n",
        "from skimage import io\n",
        "import seaborn as sns \n",
        "from skimage import color\n",
        "from skimage import data, color\n",
        "from skimage.transform import rescale, resize, downscale_local_mean \n",
        "from sklearn.model_selection import train_test_split\n",
        "from sklearn.linear_model import LogisticRegression\n",
        "from sklearn.metrics import accuracy_score\n",
        "from sklearn.metrics import classification_report\n",
        "from sklearn.metrics import confusion_matrix\n",
        "from sklearn.metrics import roc_curve  \n",
        "from sklearn import metrics\n",
        "from sklearn.metrics import plot_confusion_matrix"
      ]
    },
    {
      "cell_type": "markdown",
      "source": [
        "#Importing datasets"
      ],
      "metadata": {
        "id": "9oHT3sYq2VYZ"
      },
      "id": "9oHT3sYq2VYZ"
    },
    {
      "cell_type": "code",
      "source": [
        "from google.colab import drive\n",
        "drive.mount('/content/drive')"
      ],
      "metadata": {
        "colab": {
          "base_uri": "https://localhost:8080/"
        },
        "id": "ZKzKjcCE2cDb",
        "outputId": "871b0160-f74f-4af1-8830-477de6516c53"
      },
      "id": "ZKzKjcCE2cDb",
      "execution_count": null,
      "outputs": [
        {
          "output_type": "stream",
          "name": "stdout",
          "text": [
            "Mounted at /content/drive\n"
          ]
        }
      ]
    },
    {
      "cell_type": "code",
      "source": [
        "path_8='/content/drive/MyDrive/as 1/Sample009'\n",
        "path_g='/content/drive/MyDrive/as 1/Sample017'\n",
        "path_o='/content/drive/MyDrive/as 1/Sample051'\n",
        "path_q='/content/drive/MyDrive/as 1/Sample053'"
      ],
      "metadata": {
        "id": "r-TcdmYX2t90"
      },
      "id": "r-TcdmYX2t90",
      "execution_count": null,
      "outputs": []
    },
    {
      "cell_type": "markdown",
      "source": [
        "# Binary classification O and Q"
      ],
      "metadata": {
        "id": "lesOgRksA32O"
      },
      "id": "lesOgRksA32O"
    },
    {
      "cell_type": "code",
      "source": [
        "O=glob.glob( path_o +'/*')\n",
        "Q=glob.glob( path_q +'/*')"
      ],
      "metadata": {
        "id": "o9V_oy8-BRCk"
      },
      "id": "o9V_oy8-BRCk",
      "execution_count": null,
      "outputs": []
    },
    {
      "cell_type": "code",
      "source": [
        "oqimgs = [ ]\n",
        "oqlabels = [ ] \n",
        "\n"
      ],
      "metadata": {
        "id": "JHXerPcCMMka"
      },
      "id": "JHXerPcCMMka",
      "execution_count": null,
      "outputs": []
    },
    {
      "cell_type": "code",
      "source": [
        "\n",
        "for Opath in O:\n",
        "    oimg = io.imread( Opath )          \n",
        "    img_resized =  resize( oimg , (30 , 30 , 3 ) ) \n",
        "    img_gray =   color.rgb2gray( img_resized  )  \n",
        "    img_reshaped =  img_gray.reshape( ( 900 ) )\n",
        "    oqimgs.append(  img_reshaped )\n",
        "    oqlabels.append( 0 )\n",
        "for Qpath in Q:\n",
        "    qimg = io.imread( Qpath )          \n",
        "    img_resized =  resize( oimg , (30 , 30 , 3 ) )  \n",
        "    img_gray =   color.rgb2gray( img_resized  )   \n",
        "    img_reshaped =  img_gray.reshape( ( 900 ) )\n",
        "    oqimgs.append(  img_reshaped )\n",
        "    oqlabels.append( 1 )\n"
      ],
      "metadata": {
        "id": "EDRbaXK7DF-A"
      },
      "id": "EDRbaXK7DF-A",
      "execution_count": null,
      "outputs": []
    },
    {
      "cell_type": "code",
      "source": [
        "print(len(oqimgs))\n",
        "print(len(oqlabels))\n"
      ],
      "metadata": {
        "colab": {
          "base_uri": "https://localhost:8080/"
        },
        "id": "nhGlGqyJRlEY",
        "outputId": "9b15b179-ff8c-41ef-f8bc-bf53e5f13ef2"
      },
      "id": "nhGlGqyJRlEY",
      "execution_count": null,
      "outputs": [
        {
          "output_type": "stream",
          "name": "stdout",
          "text": [
            "202\n",
            "202\n"
          ]
        }
      ]
    },
    {
      "cell_type": "code",
      "source": [
        "X_train, X_test, y_train, y_test = train_test_split( oqimgs ,oqlabels, test_size=0.3, stratify=oqlabels , random_state=42)\n",
        "Logistic_model = LogisticRegression ( max_iter=1000)\n",
        "Logistic_model = Logistic_model.fit(  X_train ,  y_train  )\n",
        "predict_y_test =  Logistic_model.predict( X_test  )\n"
      ],
      "metadata": {
        "id": "D0RlGz8gR92o"
      },
      "id": "D0RlGz8gR92o",
      "execution_count": null,
      "outputs": []
    },
    {
      "cell_type": "code",
      "source": [
        "print( accuracy_score(  y_test ,  predict_y_test  )  )"
      ],
      "metadata": {
        "colab": {
          "base_uri": "https://localhost:8080/"
        },
        "id": "UYYPF31aXiWV",
        "outputId": "29d561cd-1b4d-45a2-a121-c7d5d4801af1"
      },
      "id": "UYYPF31aXiWV",
      "execution_count": null,
      "outputs": [
        {
          "output_type": "stream",
          "name": "stdout",
          "text": [
            "0.9672131147540983\n"
          ]
        }
      ]
    },
    {
      "cell_type": "code",
      "source": [
        "def drawing_conf_matrix(  y_actual , y_predict ):\n",
        "    \n",
        "    print( \"Classification Report\" )\n",
        "    print ( classification_report(  y_actual , y_predict  )  )  # to represent accuacy, precision, recall and f1 score\n",
        "\n",
        "    conf_mat = confusion_matrix( y_actual,   y_predict )   # to represent confusion matrix ( TP , FP , FN , FN )\n",
        "    \n",
        "    print( \"Confusion Matrix\")\n",
        "    print( conf_mat )\n",
        "    sns.heatmap( conf_mat , annot= True  , fmt = \"\" )\n",
        "    plt.ylabel('True label')\n",
        "    plt.xlabel('Predicted label')\n",
        "    \n",
        "drawing_conf_matrix( y_test ,  predict_y_test )\n",
        "    "
      ],
      "metadata": {
        "colab": {
          "base_uri": "https://localhost:8080/",
          "height": 505
        },
        "id": "3bSQf7bdY7Ue",
        "outputId": "8d297155-f60d-4cc1-cf1b-f5944ec0af55"
      },
      "id": "3bSQf7bdY7Ue",
      "execution_count": null,
      "outputs": [
        {
          "output_type": "stream",
          "name": "stdout",
          "text": [
            "Classification Report\n",
            "              precision    recall  f1-score   support\n",
            "\n",
            "           0       1.00      0.96      0.98        45\n",
            "           1       0.89      1.00      0.94        16\n",
            "\n",
            "    accuracy                           0.97        61\n",
            "   macro avg       0.94      0.98      0.96        61\n",
            "weighted avg       0.97      0.97      0.97        61\n",
            "\n",
            "Confusion Matrix\n",
            "[[43  2]\n",
            " [ 0 16]]\n"
          ]
        },
        {
          "output_type": "display_data",
          "data": {
            "text/plain": [
              "<Figure size 432x288 with 2 Axes>"
            ],
            "image/png": "[encoded data removed]"
          },
          "metadata": {
            "needs_background": "light"
          }
        }
      ]
    },
    {
      "cell_type": "code",
      "source": [
        "\n",
        "conf_matrix_test_oq = confusion_matrix(  y_test ,  predict_y_test  )\n",
        "\n",
        "Accuracy_oq = np.sum( np.diag( conf_matrix_test_oq) ) / np.sum( conf_matrix_test_oq )"
      ],
      "metadata": {
        "id": "QMj5JKp3axus"
      },
      "id": "QMj5JKp3axus",
      "execution_count": null,
      "outputs": []
    },
    {
      "cell_type": "code",
      "source": [
        "Accuracy_oq\n",
        "conf_matrix_test_oq"
      ],
      "metadata": {
        "colab": {
          "base_uri": "https://localhost:8080/"
        },
        "id": "rqEuMDeca1ZQ",
        "outputId": "7550a9d5-75fe-4cde-ec19-34b188f8b9a4"
      },
      "id": "rqEuMDeca1ZQ",
      "execution_count": null,
      "outputs": [
        {
          "output_type": "execute_result",
          "data": {
            "text/plain": [
              "array([[43,  2],\n",
              "       [ 0, 16]])"
            ]
          },
          "metadata": {},
          "execution_count": 14
        }
      ]
    },
    {
      "cell_type": "code",
      "source": [
        "precision_oq=conf_matrix_test_oq[0][0]/(conf_matrix_test_oq[0][0]+conf_matrix_test_oq[1][0])\n",
        "precision_oq"
      ],
      "metadata": {
        "colab": {
          "base_uri": "https://localhost:8080/"
        },
        "id": "Yu7MK_XRa3wU",
        "outputId": "c6833147-7ec6-4468-9ca6-057d7351fbab"
      },
      "id": "Yu7MK_XRa3wU",
      "execution_count": null,
      "outputs": [
        {
          "output_type": "execute_result",
          "data": {
            "text/plain": [
              "1.0"
            ]
          },
          "metadata": {},
          "execution_count": 19
        }
      ]
    },
    {
      "cell_type": "code",
      "source": [
        "Recall_oq=conf_matrix_test_oq[0][0]/(conf_matrix_test_oq[0][0]+conf_matrix_test_oq[0][1])\n",
        "Recall_oq"
      ],
      "metadata": {
        "colab": {
          "base_uri": "https://localhost:8080/"
        },
        "id": "DMP6c7gWa9pd",
        "outputId": "ac75e748-1a23-423f-dbe4-1a3eddef837b"
      },
      "id": "DMP6c7gWa9pd",
      "execution_count": null,
      "outputs": [
        {
          "output_type": "execute_result",
          "data": {
            "text/plain": [
              "0.9555555555555556"
            ]
          },
          "metadata": {},
          "execution_count": 20
        }
      ]
    },
    {
      "cell_type": "markdown",
      "source": [
        "# Binary classification G and 8\n"
      ],
      "metadata": {
        "id": "KaDzSGDJA6k_"
      },
      "id": "KaDzSGDJA6k_"
    },
    {
      "cell_type": "code",
      "source": [
        "G=glob.glob( path_g +'/*')\n",
        "_8=glob.glob( path_8 +'/*')   "
      ],
      "metadata": {
        "id": "c7XUT6m2EfD1"
      },
      "execution_count": null,
      "outputs": [],
      "id": "c7XUT6m2EfD1"
    },
    {
      "cell_type": "markdown",
      "source": [],
      "metadata": {
        "id": "EKHM7AnlMbD-"
      },
      "id": "EKHM7AnlMbD-"
    },
    {
      "cell_type": "code",
      "source": [
        "g8imgs=[]\n",
        "g8labels=[]\n"
      ],
      "metadata": {
        "id": "44tGG-EiQTCF"
      },
      "execution_count": null,
      "outputs": [],
      "id": "44tGG-EiQTCF"
    },
    {
      "cell_type": "code",
      "source": [
        "for Gpath in G:\n",
        "  gimg = io.imread( Gpath ) \n",
        "  img_resized =  resize( gimg , (30 , 30 , 3 ) )  \n",
        "  img_gray =   color.rgb2gray( img_resized  )   \n",
        "  img_reshaped =  img_gray.reshape( ( 900 ) )\n",
        "  g8imgs.append(  img_reshaped )\n",
        "  g8labels.append( 0 )\n",
        "for _8path in _8:\n",
        "  _8img = io.imread( _8path)\n",
        "  img_resized =  resize( _8img , (30 , 30 , 3 ) )  \n",
        "  img_gray =   color.rgb2gray( img_resized  )   \n",
        "  img_reshaped =  img_gray.reshape( ( 900 ) )\n",
        "  g8imgs.append(  img_reshaped )\n",
        "  g8labels.append( 1)\n"
      ],
      "metadata": {
        "id": "KrHcwQg7EquJ"
      },
      "execution_count": null,
      "outputs": [],
      "id": "KrHcwQg7EquJ"
    },
    {
      "cell_type": "code",
      "source": [
        "X_train, X_test, y_train, y_test = train_test_split( g8imgs ,g8labels, test_size=0.3, stratify=g8labels , random_state=42)\n",
        "Logistic_model = LogisticRegression (max_iter=200 )\n",
        "Logistic_model = Logistic_model.fit(  X_train ,  y_train  )\n",
        "predict_y_test = Logistic_model.predict( X_test  )"
      ],
      "metadata": {
        "id": "5HuCj6zsXP71"
      },
      "execution_count": null,
      "outputs": [],
      "id": "5HuCj6zsXP71"
    },
    {
      "cell_type": "code",
      "source": [
        "print( accuracy_score(  y_test ,  predict_y_test  )  )"
      ],
      "metadata": {
        "id": "4-FwSJVcRu-1",
        "colab": {
          "base_uri": "https://localhost:8080/"
        },
        "outputId": "53bafa97-77fd-4e63-9caf-71d220f14472"
      },
      "execution_count": null,
      "outputs": [
        {
          "output_type": "stream",
          "name": "stdout",
          "text": [
            "0.8113207547169812\n"
          ]
        }
      ],
      "id": "4-FwSJVcRu-1"
    },
    {
      "cell_type": "code",
      "source": [
        "def drawing_conf_matrix(  y_actual , y_predict ):\n",
        "    \n",
        "    print( \"Classification Report\" )\n",
        "    print ( classification_report(  y_actual , y_predict  )  )  # to represent accuacy, precision, recall and f1 score\n",
        "\n",
        "    conf_mat = confusion_matrix( y_actual,   y_predict )   # to represent confusion matrix ( TP , FP , FN , FN )\n",
        "    \n",
        "    print( \"Confusion Matrix\")\n",
        "    print( conf_mat )\n",
        "    sns.heatmap( conf_mat , annot= True  , fmt = \"\" )\n",
        "    plt.ylabel('True label')\n",
        "    plt.xlabel('Predicted label')\n",
        "    \n",
        "drawing_conf_matrix( y_test ,  predict_y_test )\n",
        "    "
      ],
      "metadata": {
        "colab": {
          "base_uri": "https://localhost:8080/",
          "height": 505
        },
        "id": "TsS9aMSnd06v",
        "outputId": "99be099f-7f57-4220-da94-4e08f003ed2c"
      },
      "id": "TsS9aMSnd06v",
      "execution_count": null,
      "outputs": [
        {
          "output_type": "stream",
          "name": "stdout",
          "text": [
            "Classification Report\n",
            "              precision    recall  f1-score   support\n",
            "\n",
            "           0       0.84      0.95      0.89        43\n",
            "           1       0.50      0.20      0.29        10\n",
            "\n",
            "    accuracy                           0.81        53\n",
            "   macro avg       0.67      0.58      0.59        53\n",
            "weighted avg       0.77      0.81      0.78        53\n",
            "\n",
            "Confusion Matrix\n",
            "[[41  2]\n",
            " [ 8  2]]\n"
          ]
        },
        {
          "output_type": "display_data",
          "data": {
            "text/plain": [
              "<Figure size 432x288 with 2 Axes>"
            ],
            "image/png": "[encoded data removed]"
          },
          "metadata": {
            "needs_background": "light"
          }
        }
      ]
    },
    {
      "cell_type": "code",
      "source": [
        "\n",
        "conf_matrix_test_g8 = confusion_matrix(  y_test ,  predict_y_test  )\n",
        "precision_g8=conf_matrix_test_g8[0][0]/(conf_matrix_test_g8[0][0]+conf_matrix_test_g8[1][0])\n",
        "Recall_g8=conf_matrix_test_g8[0][0]/(conf_matrix_test_g8[0][0]+conf_matrix_test_g8[0][1])\n",
        "Accuracy_g8 = np.sum( np.diag( conf_matrix_test_g8) ) / np.sum( conf_matrix_test_g8 )"
      ],
      "metadata": {
        "id": "iwjsn7O0d3VH"
      },
      "id": "iwjsn7O0d3VH",
      "execution_count": null,
      "outputs": []
    },
    {
      "cell_type": "code",
      "source": [
        "Accuracy_g8\n",
        "\n",
        "\n"
      ],
      "metadata": {
        "colab": {
          "base_uri": "https://localhost:8080/"
        },
        "id": "Pfld0dPYd8Ew",
        "outputId": "2dfe6955-2c1a-4e00-fea0-abc5ebbfd060"
      },
      "id": "Pfld0dPYd8Ew",
      "execution_count": null,
      "outputs": [
        {
          "output_type": "execute_result",
          "data": {
            "text/plain": [
              "0.9534883720930233"
            ]
          },
          "metadata": {},
          "execution_count": 28
        }
      ]
    },
    {
      "cell_type": "code",
      "source": [
        "precision_g8"
      ],
      "metadata": {
        "colab": {
          "base_uri": "https://localhost:8080/"
        },
        "id": "iqYgoPhmedip",
        "outputId": "95384e1d-1cf6-4d91-f43e-54b3b8222ded"
      },
      "id": "iqYgoPhmedip",
      "execution_count": null,
      "outputs": [
        {
          "output_type": "execute_result",
          "data": {
            "text/plain": [
              "0.8367346938775511"
            ]
          },
          "metadata": {},
          "execution_count": 29
        }
      ]
    },
    {
      "cell_type": "code",
      "source": [
        "Recall_g8"
      ],
      "metadata": {
        "colab": {
          "base_uri": "https://localhost:8080/"
        },
        "id": "uw16oq8vedY-",
        "outputId": "a7fad443-4b93-4dbc-f605-f1497b709900"
      },
      "id": "uw16oq8vedY-",
      "execution_count": null,
      "outputs": [
        {
          "output_type": "execute_result",
          "data": {
            "text/plain": [
              "0.9534883720930233"
            ]
          },
          "metadata": {},
          "execution_count": 30
        }
      ]
    },
    {
      "cell_type": "code",
      "source": [
        "conf_matrix_test_g8"
      ],
      "metadata": {
        "colab": {
          "base_uri": "https://localhost:8080/"
        },
        "id": "uvuhEl9bedOD",
        "outputId": "bb556dc2-8d2a-4e7a-b2d5-539efb86aa99"
      },
      "id": "uvuhEl9bedOD",
      "execution_count": null,
      "outputs": [
        {
          "output_type": "execute_result",
          "data": {
            "text/plain": [
              "array([[41,  2],\n",
              "       [ 8,  2]])"
            ]
          },
          "metadata": {},
          "execution_count": 31
        }
      ]
    },
    {
      "cell_type": "markdown",
      "source": [
        "# Multi Classification"
      ],
      "metadata": {
        "id": "M34geUS7RGEf"
      },
      "id": "M34geUS7RGEf"
    },
    {
      "cell_type": "code",
      "source": [
        "multimg=[]\n",
        "multilabels=[]"
      ],
      "metadata": {
        "id": "Vluws827RdMU"
      },
      "id": "Vluws827RdMU",
      "execution_count": null,
      "outputs": []
    },
    {
      "cell_type": "code",
      "source": [
        "for Opath in O:\n",
        "    oimg = io.imread( Opath )          \n",
        "    img_resized =  resize( oimg , (30 , 30 , 3 ) ) \n",
        "    img_gray =   color.rgb2gray( img_resized  )  \n",
        "    img_reshaped =  img_gray.reshape( ( 900 ) )\n",
        "    multimg.append(  img_reshaped )\n",
        "    multilabels.append( 0 )\n",
        "for Qpath in Q:\n",
        "    qimg = io.imread( Qpath )          \n",
        "    img_resized =  resize( oimg , (30 , 30 , 3 ) )  \n",
        "    img_gray =   color.rgb2gray( img_resized  )   \n",
        "    img_reshaped =  img_gray.reshape( ( 900 ) )\n",
        "    multimg.append(  img_reshaped )\n",
        "    multilabels.append( 1 )\n",
        "for Gpath in G:\n",
        "  Gimg = io.imread( Gpath ) \n",
        "  img_resized =  resize( Gimg , (30 , 30 , 3 ) )  \n",
        "  img_gray =   color.rgb2gray( img_resized  )   \n",
        "  img_reshaped =  img_gray.reshape( ( 900 ) )\n",
        "  multimg.append(  img_reshaped )\n",
        "  multilabels.append( 2)\n",
        "\n",
        "\n",
        "for _8path in _8:\n",
        "  _8img = io.imread( _8path)\n",
        "  img_resized =  resize( _8img , (30 , 30 , 3 ) )  \n",
        "  img_gray =   color.rgb2gray( img_resized  )   \n",
        "  img_reshaped =  img_gray.reshape( ( 900 ) )\n",
        "  multimg.append(  img_reshaped )\n",
        "  multilabels.append( 3)"
      ],
      "metadata": {
        "id": "tf0s4BhiRLAE"
      },
      "id": "tf0s4BhiRLAE",
      "execution_count": null,
      "outputs": []
    },
    {
      "cell_type": "code",
      "source": [
        "X_train, X_test, y_train, y_test = train_test_split( multimg ,multilabels, test_size=0.3, stratify=multilabels , random_state=42)\n",
        "Logistic_model = LogisticRegression (max_iter=1000 )\n",
        "Logistic_model = Logistic_model.fit(  X_train ,  y_train  )\n",
        "predict_y_test = Logistic_model.predict( X_test  )\n"
      ],
      "metadata": {
        "id": "5ymZx2s5R-e4"
      },
      "id": "5ymZx2s5R-e4",
      "execution_count": null,
      "outputs": []
    },
    {
      "cell_type": "code",
      "source": [
        "print( accuracy_score(  y_test ,  predict_y_test  )  )"
      ],
      "metadata": {
        "colab": {
          "base_uri": "https://localhost:8080/"
        },
        "id": "-kzuQ73gX395",
        "outputId": "2ab43f18-0bee-4f68-d57f-4b72dded7519"
      },
      "id": "-kzuQ73gX395",
      "execution_count": null,
      "outputs": [
        {
          "output_type": "stream",
          "name": "stdout",
          "text": [
            "0.5614035087719298\n"
          ]
        }
      ]
    },
    {
      "cell_type": "code",
      "source": [
        "\n",
        "def drawing_conf_matrix(  y_actual , y_predict ):\n",
        "    \n",
        "    print( \"Classification Report\" )\n",
        "    print ( classification_report(  y_actual , y_predict  )  )  # to represent accuacy, precision, recall and f1 score\n",
        "\n",
        "    conf_mat = confusion_matrix( y_actual,   y_predict )   # to represent confusion matrix ( TP , FP , FN , FN )\n",
        "    \n",
        "    print( \"Confusion Matrix\")\n",
        "    print( conf_mat )\n",
        "    sns.heatmap( conf_mat , annot= True  , fmt = \"\" )\n",
        "    plt.ylabel('True label')\n",
        "    plt.xlabel('Predicted label')\n",
        "drawing_conf_matrix( y_test ,  predict_y_test )\n",
        "    "
      ],
      "metadata": {
        "colab": {
          "base_uri": "https://localhost:8080/",
          "height": 574
        },
        "id": "z_E6OSBNek7s",
        "outputId": "0ff60100-212e-4028-cf73-1c4e471df8ca"
      },
      "id": "z_E6OSBNek7s",
      "execution_count": null,
      "outputs": [
        {
          "output_type": "stream",
          "name": "stdout",
          "text": [
            "Classification Report\n",
            "              precision    recall  f1-score   support\n",
            "\n",
            "           0       0.50      0.64      0.56        45\n",
            "           1       0.84      1.00      0.91        16\n",
            "           2       0.53      0.42      0.47        43\n",
            "           3       0.33      0.10      0.15        10\n",
            "\n",
            "    accuracy                           0.56       114\n",
            "   macro avg       0.55      0.54      0.52       114\n",
            "weighted avg       0.54      0.56      0.54       114\n",
            "\n",
            "Confusion Matrix\n",
            "[[29  2 13  1]\n",
            " [ 0 16  0  0]\n",
            " [24  0 18  1]\n",
            " [ 5  1  3  1]]\n"
          ]
        },
        {
          "output_type": "display_data",
          "data": {
            "text/plain": [
              "<Figure size 432x288 with 2 Axes>"
            ],
            "image/png": "[encoded data removed]"
          },
          "metadata": {
            "needs_background": "light"
          }
        }
      ]
    },
    {
      "cell_type": "code",
      "source": [
        "\n",
        "conf_matrix_test_oqG8 = confusion_matrix(  y_test ,  predict_y_test  )\n",
        "conf_matrix_test_oqG8"
      ],
      "metadata": {
        "colab": {
          "base_uri": "https://localhost:8080/"
        },
        "id": "EkyoGb6pek4V",
        "outputId": "91312542-cf83-4a03-9c9f-213eb010e0e3"
      },
      "id": "EkyoGb6pek4V",
      "execution_count": null,
      "outputs": [
        {
          "output_type": "execute_result",
          "data": {
            "text/plain": [
              "array([[29,  2, 13,  1],\n",
              "       [ 0, 16,  0,  0],\n",
              "       [24,  0, 18,  1],\n",
              "       [ 5,  1,  3,  1]])"
            ]
          },
          "metadata": {},
          "execution_count": 39
        }
      ]
    },
    {
      "cell_type": "code",
      "source": [
        "\n",
        "Accuracy_oqG8=np.sum( np.diag( conf_matrix_test_oqG8) ) / np.sum( conf_matrix_test_oqG8 )\n",
        "Accuracy_oqG8"
      ],
      "metadata": {
        "colab": {
          "base_uri": "https://localhost:8080/"
        },
        "id": "T36Wrw9Yek29",
        "outputId": "c4e24663-a9e0-4aba-d945-f75de88147ff"
      },
      "id": "T36Wrw9Yek29",
      "execution_count": null,
      "outputs": [
        {
          "output_type": "execute_result",
          "data": {
            "text/plain": [
              "0.5614035087719298"
            ]
          },
          "metadata": {},
          "execution_count": 40
        }
      ]
    },
    {
      "cell_type": "code",
      "source": [
        "FP_o=0\n",
        "for i in range(0,4) :\n",
        "    FP_o+=conf_matrix_test_oqG8[i][0]\n",
        "    \n",
        "FN_o=0\n",
        "for i in range(0,4) :\n",
        "    FN_o+=conf_matrix_test_oqG8[0][i]  "
      ],
      "metadata": {
        "id": "rPoAKySFekrK"
      },
      "id": "rPoAKySFekrK",
      "execution_count": null,
      "outputs": []
    },
    {
      "cell_type": "code",
      "source": [
        "\n",
        "precision_o=conf_matrix_test_oqG8[0][0]/FP_o\n",
        "Recall_o=conf_matrix_test_oqG8[0][0]/FN_o\n",
        "\n",
        "precision_o"
      ],
      "metadata": {
        "colab": {
          "base_uri": "https://localhost:8080/"
        },
        "id": "oX_bbhnmeknq",
        "outputId": "879bbf08-8870-499f-92e9-1098d9be13ec"
      },
      "id": "oX_bbhnmeknq",
      "execution_count": null,
      "outputs": [
        {
          "output_type": "execute_result",
          "data": {
            "text/plain": [
              "0.5"
            ]
          },
          "metadata": {},
          "execution_count": 42
        }
      ]
    },
    {
      "cell_type": "code",
      "source": [
        "Recall_o"
      ],
      "metadata": {
        "id": "CQU0u2TtfZ93"
      },
      "id": "CQU0u2TtfZ93",
      "execution_count": null,
      "outputs": []
    }
  ],
  "metadata": {
    "kernelspec": {
      "display_name": "Python 3 (ipykernel)",
      "language": "python",
      "name": "python3"
    },
    "language_info": {
      "codemirror_mode": {
        "name": "ipython",
        "version": 3
      },
      "file_extension": ".py",
      "mimetype": "text/x-python",
      "name": "python",
      "nbconvert_exporter": "python",
      "pygments_lexer": "ipython3",
      "version": "3.9.12"
    },
    "colab": {
      "provenance": [],
      "collapsed_sections": [],
      "toc_visible": true,
      "include_colab_link": true
    }
  },
  "nbformat": 4,
  "nbformat_minor": 5
}